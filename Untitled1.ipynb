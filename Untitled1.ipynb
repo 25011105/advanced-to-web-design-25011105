{
  "nbformat": 4,
  "nbformat_minor": 0,
  "metadata": {
    "colab": {
      "provenance": []
    },
    "kernelspec": {
      "name": "python3",
      "display_name": "Python 3"
    },
    "language_info": {
      "name": "python"
    }
  },
  "cells": [
    {
      "cell_type": "code",
      "execution_count": 1,
      "metadata": {
        "colab": {
          "base_uri": "https://localhost:8080/"
        },
        "id": "6KbXIIlyjNCK",
        "outputId": "4cf158eb-fa6e-40c9-baef-33c9323eeb22"
      },
      "outputs": [
        {
          "output_type": "stream",
          "name": "stdout",
          "text": [
            "['ALEX', 'Claude', 'HASINGIZWIMANA', 'John', 'Peter', 'kagetera', 'university ']\n"
          ]
        }
      ],
      "source": [
        "names= [\"kagetera\",\"John\",\"Peter\",\"ALEX\",\"Claude\"]\n",
        "names.append(\"HASINGIZWIMANA\")\n",
        "names.append(\"university \")\n",
        "names.sort()\n",
        "print(names)"
      ]
    }
  ]
}
